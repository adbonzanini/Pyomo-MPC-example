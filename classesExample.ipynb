{
 "cells": [
  {
   "cell_type": "markdown",
   "metadata": {},
   "source": [
    "# classesExample.ipynb\n",
    "This Jupyter notebook provides a toy example on the basics of classes and object-oriented programming.\n",
    "\n",
    "\n",
    "Author: Angelo D. Bonzanini\n",
    "(c) 2021"
   ]
  },
  {
   "cell_type": "markdown",
   "metadata": {},
   "source": [
    "## Define classes\n",
    "Classes are like \"blueprints\" for creating objects. Objects, in turn, are a collection of data as well as methods/functions that act on those data."
   ]
  },
  {
   "cell_type": "code",
   "execution_count": 6,
   "metadata": {},
   "outputs": [],
   "source": [
    "# Conventionally, classes are defined with a capital first letter\n",
    "class Dog:\n",
    "    # First thing I do is to intialize the \"class variables\". These are variables that are\n",
    "    # shared by all instance of the class\n",
    "    kind = 'canine'\n",
    "    nLegs = 4\n",
    "    \n",
    "    # Instance variables, on the other hand, are unique to each instance of the class\n",
    "    # and will be defined when we \"instantiate\" the class below\n",
    "    def __init__(self, name, age, boyOrGirl):  # Note that the first argument of any method is the keyword \"self\"\n",
    "        self.name = name\n",
    "        self.age = age\n",
    "        self.boyOrGirl = boyOrGirl\n",
    "        \n",
    "    # Next, define the methods (functions) that are relevant to the class\n",
    "    def speak(self):\n",
    "        print(\"Woof\")\n",
    "        \n",
    "    def goodPet(self):\n",
    "        print(\"Good \", self.boyOrGirl,\"!\")\n"
   ]
  },
  {
   "cell_type": "markdown",
   "metadata": {},
   "source": [
    "Now, it's time to create the objects for different dogs"
   ]
  },
  {
   "cell_type": "code",
   "execution_count": 7,
   "metadata": {},
   "outputs": [],
   "source": [
    "dog1 = Dog(\"Gatsby\", 5, \"boy\")\n",
    "dog2 = Dog(\"Daisy\", 2, \"girl\")"
   ]
  },
  {
   "cell_type": "markdown",
   "metadata": {},
   "source": [
    "Let's print out their data"
   ]
  },
  {
   "cell_type": "code",
   "execution_count": 9,
   "metadata": {},
   "outputs": [
    {
     "name": "stdout",
     "output_type": "stream",
     "text": [
      "canine Gatsby 5\n",
      "canine Daisy 2\n"
     ]
    }
   ],
   "source": [
    "print(dog1.kind, dog1.name, dog1.age)\n",
    "print(dog2.kind, dog2.name, dog2.age)"
   ]
  },
  {
   "cell_type": "markdown",
   "metadata": {},
   "source": [
    "And now let's call some methods"
   ]
  },
  {
   "cell_type": "code",
   "execution_count": 10,
   "metadata": {},
   "outputs": [
    {
     "name": "stdout",
     "output_type": "stream",
     "text": [
      "Good  boy !\n",
      "Woof\n",
      "\n",
      "\n",
      "Good  girl !\n",
      "Woof\n"
     ]
    }
   ],
   "source": [
    "dog1.goodPet()\n",
    "dog1.speak()\n",
    "print(\"\\n\")\n",
    "dog2.goodPet()\n",
    "dog2.speak()"
   ]
  },
  {
   "cell_type": "code",
   "execution_count": null,
   "metadata": {},
   "outputs": [],
   "source": []
  }
 ],
 "metadata": {
  "kernelspec": {
   "display_name": "Python 3",
   "language": "python",
   "name": "python3"
  },
  "language_info": {
   "codemirror_mode": {
    "name": "ipython",
    "version": 3
   },
   "file_extension": ".py",
   "mimetype": "text/x-python",
   "name": "python",
   "nbconvert_exporter": "python",
   "pygments_lexer": "ipython3",
   "version": "3.7.4"
  }
 },
 "nbformat": 4,
 "nbformat_minor": 2
}

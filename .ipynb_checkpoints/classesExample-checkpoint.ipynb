{
 "cells": [
  {
   "cell_type": "markdown",
   "metadata": {},
   "source": [
    "# classesExample.ipynb\n",
    "This Jupyter notebook provides a toy example on the basics of classes and object-oriented programming.\n",
    "\n",
    "\n",
    "Author: Angelo D. Bonzanini\n",
    "(c) 2021"
   ]
  },
  {
   "cell_type": "code",
   "execution_count": null,
   "metadata": {},
   "outputs": [],
   "source": [
    "# Conventionally, classes are defined with a capital first letter\n",
    "class Dog:\n",
    "    # First thing I do is to intialize the \"class variables\". These are variables that are\n",
    "    # shared by all instance of the class\n",
    "    kind = 'canine'\n",
    "    nLegs = 4\n",
    "    \n",
    "    # Instance variables, on the other hand, are unique to each instance of the class\n",
    "    # and will be defined when we \"instantiate\" the class below\n",
    "    def __init__(self, name, age, boyOrGirl):  # Note that the first argument of any method is the keyword \"self\"\n",
    "        self.name = name\n",
    "        self.age = age\n",
    "        self.gender = boyOrGirl\n",
    "        \n",
    "    # Next, define the methods (functions) that are relevant to the class\n",
    "    def speak(self):\n",
    "        print(\"Woof\")\n",
    "        \n",
    "    def goodPet(self):\n",
    "        print(\"Good \", self.gender,\"!\")\n"
   ]
  }
 ],
 "metadata": {
  "kernelspec": {
   "display_name": "Python 3",
   "language": "python",
   "name": "python3"
  },
  "language_info": {
   "codemirror_mode": {
    "name": "ipython",
    "version": 3
   },
   "file_extension": ".py",
   "mimetype": "text/x-python",
   "name": "python",
   "nbconvert_exporter": "python",
   "pygments_lexer": "ipython3",
   "version": "3.7.4"
  }
 },
 "nbformat": 4,
 "nbformat_minor": 2
}
